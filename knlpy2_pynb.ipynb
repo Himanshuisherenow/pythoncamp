{
  "nbformat": 4,
  "nbformat_minor": 0,
  "metadata": {
    "colab": {
      "provenance": [],
      "authorship_tag": "ABX9TyN1GujJlSC02JdL3bDknGbN",
      "include_colab_link": true
    },
    "kernelspec": {
      "name": "python3",
      "display_name": "Python 3"
    },
    "language_info": {
      "name": "python"
    }
  },
  "cells": [
    {
      "cell_type": "markdown",
      "metadata": {
        "id": "view-in-github",
        "colab_type": "text"
      },
      "source": [
        "<a href=\"https://colab.research.google.com/github/Himanshuisherenow/pythoncamp/blob/main/knlpy2_pynb.ipynb\" target=\"_parent\"><img src=\"https://colab.research.google.com/assets/colab-badge.svg\" alt=\"Open In Colab\"/></a>"
      ]
    },
    {
      "cell_type": "code",
      "execution_count": null,
      "metadata": {
        "id": "FRYDA8OtD0Ky"
      },
      "outputs": [],
      "source": [
        "a = \"   2 3 4 5 5 6 \""
      ]
    },
    {
      "cell_type": "code",
      "source": [
        "c = a.split()"
      ],
      "metadata": {
        "id": "yXBh8dvdEBa5"
      },
      "execution_count": null,
      "outputs": []
    },
    {
      "cell_type": "code",
      "source": [
        "print(c)"
      ],
      "metadata": {
        "colab": {
          "base_uri": "https://localhost:8080/"
        },
        "id": "0ooA1DpLEHb9",
        "outputId": "276d3314-721c-46a0-e4e1-3990457d326b"
      },
      "execution_count": null,
      "outputs": [
        {
          "output_type": "stream",
          "name": "stdout",
          "text": [
            "['2', '3', '4', '5', '5', '6']\n"
          ]
        }
      ]
    },
    {
      "cell_type": "code",
      "source": [
        "c = a.split(\" \")\n"
      ],
      "metadata": {
        "id": "tMiK6sbsEJHx"
      },
      "execution_count": null,
      "outputs": []
    },
    {
      "cell_type": "code",
      "source": [
        "print(c)"
      ],
      "metadata": {
        "colab": {
          "base_uri": "https://localhost:8080/"
        },
        "id": "LNqOXixkEVEq",
        "outputId": "53335a04-4e91-4caa-fc7e-c1e9ec7a3df8"
      },
      "execution_count": null,
      "outputs": [
        {
          "output_type": "stream",
          "name": "stdout",
          "text": [
            "['', '', '', '2', '3', '4', '5', '5', '6', '']\n"
          ]
        }
      ]
    },
    {
      "cell_type": "code",
      "source": [
        "c = a.strip()"
      ],
      "metadata": {
        "id": "qXAy8Pb0EWUr"
      },
      "execution_count": null,
      "outputs": []
    },
    {
      "cell_type": "code",
      "source": [
        "print(c)"
      ],
      "metadata": {
        "colab": {
          "base_uri": "https://localhost:8080/"
        },
        "id": "LsLUBtMnEfPt",
        "outputId": "02a97a1e-d52c-4ece-a202-b168141c36d7"
      },
      "execution_count": null,
      "outputs": [
        {
          "output_type": "stream",
          "name": "stdout",
          "text": [
            "2 3 4 5 5 6\n"
          ]
        }
      ]
    },
    {
      "cell_type": "code",
      "source": [
        "print(list(c.split(\" \")))"
      ],
      "metadata": {
        "colab": {
          "base_uri": "https://localhost:8080/"
        },
        "id": "TOA82clEEgbz",
        "outputId": "5557c2f4-efcf-445b-a795-6169e0f8c349"
      },
      "execution_count": null,
      "outputs": [
        {
          "output_type": "stream",
          "name": "stdout",
          "text": [
            "['2', '3', '4', '5', '5', '6']\n"
          ]
        }
      ]
    },
    {
      "cell_type": "code",
      "source": [
        "x = c.split(\" \")\n",
        "\n",
        "li = list(map(int,x))"
      ],
      "metadata": {
        "id": "xdnHwLp0EwLh"
      },
      "execution_count": null,
      "outputs": []
    },
    {
      "cell_type": "code",
      "source": [
        "print(li)"
      ],
      "metadata": {
        "colab": {
          "base_uri": "https://localhost:8080/"
        },
        "id": "o2WBXZXSFvzQ",
        "outputId": "28ee28f4-314b-4452-da01-abe3bb978f4a"
      },
      "execution_count": null,
      "outputs": [
        {
          "output_type": "stream",
          "name": "stdout",
          "text": [
            "[2, 3, 4, 5, 5, 6]\n"
          ]
        }
      ]
    },
    {
      "cell_type": "code",
      "source": [
        "sum(li)"
      ],
      "metadata": {
        "colab": {
          "base_uri": "https://localhost:8080/"
        },
        "id": "9fM1kKmtGMdI",
        "outputId": "6a071dfd-3b77-4239-a447-a2904cbb9c04"
      },
      "execution_count": null,
      "outputs": [
        {
          "output_type": "execute_result",
          "data": {
            "text/plain": [
              "25"
            ]
          },
          "metadata": {},
          "execution_count": 12
        }
      ]
    },
    {
      "cell_type": "code",
      "source": [
        " n1,n2,n3 = [1,2,3]"
      ],
      "metadata": {
        "id": "QebPw0-oGU46"
      },
      "execution_count": null,
      "outputs": []
    },
    {
      "cell_type": "code",
      "source": [
        "print(n3)"
      ],
      "metadata": {
        "colab": {
          "base_uri": "https://localhost:8080/"
        },
        "id": "EDsHNYULH33u",
        "outputId": "2f6e457a-ed4e-4841-d0f5-aaef735fc224"
      },
      "execution_count": null,
      "outputs": [
        {
          "output_type": "stream",
          "name": "stdout",
          "text": [
            "3\n"
          ]
        }
      ]
    },
    {
      "cell_type": "code",
      "source": [
        "j = \"3 4 5\"\n"
      ],
      "metadata": {
        "id": "FRFu0rhuH6SL"
      },
      "execution_count": null,
      "outputs": []
    },
    {
      "cell_type": "code",
      "source": [
        "a,b,c=map(int,j.split())"
      ],
      "metadata": {
        "id": "Yw_IV01QIJgf"
      },
      "execution_count": null,
      "outputs": []
    },
    {
      "cell_type": "code",
      "source": [
        "print(b,a,sep=\"--\")"
      ],
      "metadata": {
        "colab": {
          "base_uri": "https://localhost:8080/"
        },
        "id": "ScpK88ZcIUiv",
        "outputId": "e5e7ee31-7f37-47aa-cab6-e38b0824ca89"
      },
      "execution_count": null,
      "outputs": [
        {
          "output_type": "stream",
          "name": "stdout",
          "text": [
            "4--3\n"
          ]
        }
      ]
    },
    {
      "cell_type": "code",
      "source": [
        "words_list = [\"apple\",\"banana\",\"cherry\"]\n",
        "c = \",\".join(words_list)"
      ],
      "metadata": {
        "id": "okKbBXHQIbFZ"
      },
      "execution_count": null,
      "outputs": []
    },
    {
      "cell_type": "code",
      "source": [
        "print(c)"
      ],
      "metadata": {
        "colab": {
          "base_uri": "https://localhost:8080/"
        },
        "id": "Bp0sidKSllXw",
        "outputId": "3d311782-d3f0-4dde-961b-f03775c0e414"
      },
      "execution_count": null,
      "outputs": [
        {
          "output_type": "stream",
          "name": "stdout",
          "text": [
            "apple,banana,cherry\n"
          ]
        }
      ]
    },
    {
      "cell_type": "code",
      "source": [
        "delimiter = \" - \"\n",
        "words_tuple = (\"apple\", \"banana\", \"cherry\")\n",
        "result = delimiter.join(words_tuple)\n",
        "print(result)"
      ],
      "metadata": {
        "colab": {
          "base_uri": "https://localhost:8080/"
        },
        "id": "8Hx1o0O-ncmF",
        "outputId": "fa764b62-20de-4519-932a-fd545b9ad094"
      },
      "execution_count": null,
      "outputs": [
        {
          "output_type": "stream",
          "name": "stdout",
          "text": [
            "apple - banana - cherry\n"
          ]
        }
      ]
    },
    {
      "cell_type": "code",
      "source": [
        "a= (\"apple\", \"banana\", \"cherry\")\n",
        "b=\"virat ,is ,king\""
      ],
      "metadata": {
        "id": "Xx0WhVoDqsGM"
      },
      "execution_count": null,
      "outputs": []
    },
    {
      "cell_type": "code",
      "source": [
        "result = \",\".join(b) # it will iterate through the *b* and write \",\" between each charater"
      ],
      "metadata": {
        "id": "7eKmVm99q0TP"
      },
      "execution_count": null,
      "outputs": []
    },
    {
      "cell_type": "code",
      "source": [
        "print(result)"
      ],
      "metadata": {
        "colab": {
          "base_uri": "https://localhost:8080/"
        },
        "id": "kVTgjtEFq95a",
        "outputId": "8b26ad88-de4b-4cb0-e4f7-7cd6f5a8d550"
      },
      "execution_count": null,
      "outputs": [
        {
          "output_type": "stream",
          "name": "stdout",
          "text": [
            "v,i,r,a,t, ,,,i,s, ,,,k,i,n,g\n"
          ]
        }
      ]
    },
    {
      "cell_type": "code",
      "source": [
        "sum([5,6,6,6,6,6,6,6,6,6,5])"
      ],
      "metadata": {
        "id": "3wZrYMdXrS23",
        "colab": {
          "base_uri": "https://localhost:8080/"
        },
        "outputId": "bd3f32f3-0dca-4d29-ca96-2d667040408b"
      },
      "execution_count": null,
      "outputs": [
        {
          "output_type": "execute_result",
          "data": {
            "text/plain": [
              "64"
            ]
          },
          "metadata": {},
          "execution_count": 27
        }
      ]
    },
    {
      "cell_type": "code",
      "source": [],
      "metadata": {
        "id": "UkZF8TbiPbcM"
      },
      "execution_count": null,
      "outputs": []
    }
  ]
}
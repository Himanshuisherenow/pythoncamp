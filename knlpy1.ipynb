{
  "nbformat": 4,
  "nbformat_minor": 0,
  "metadata": {
    "colab": {
      "provenance": [],
      "authorship_tag": "ABX9TyMx9CMyDt5lz6e1/geqUCpC",
      "include_colab_link": true
    },
    "kernelspec": {
      "name": "python3",
      "display_name": "Python 3"
    },
    "language_info": {
      "name": "python"
    }
  },
  "cells": [
    {
      "cell_type": "markdown",
      "metadata": {
        "id": "view-in-github",
        "colab_type": "text"
      },
      "source": [
        "<a href=\"https://colab.research.google.com/github/Himanshuisherenow/pythoncamp/blob/main/knlpy1.ipynb\" target=\"_parent\"><img src=\"https://colab.research.google.com/assets/colab-badge.svg\" alt=\"Open In Colab\"/></a>"
      ]
    },
    {
      "cell_type": "code",
      "execution_count": null,
      "metadata": {
        "id": "33gwYZS_kEqR"
      },
      "outputs": [],
      "source": [
        "a=5\n",
        "b = 6\n"
      ]
    },
    {
      "cell_type": "code",
      "source": [
        "a , b = b , a # tupple form and"
      ],
      "metadata": {
        "id": "g8HaECZRkJxk"
      },
      "execution_count": null,
      "outputs": []
    },
    {
      "cell_type": "code",
      "source": [
        "print(a)"
      ],
      "metadata": {
        "colab": {
          "base_uri": "https://localhost:8080/"
        },
        "id": "jE2KFpMFkM5d",
        "outputId": "36f561b0-daef-4370-afa3-a014fdb92a39"
      },
      "execution_count": null,
      "outputs": [
        {
          "output_type": "stream",
          "name": "stdout",
          "text": [
            "6\n"
          ]
        }
      ]
    },
    {
      "cell_type": "code",
      "source": [
        "a =[4,5,6,7]\n"
      ],
      "metadata": {
        "id": "h5W7dbYDkQaG"
      },
      "execution_count": null,
      "outputs": []
    },
    {
      "cell_type": "code",
      "source": [
        "for index , num in enumerate(a):   # index , ch = index , val\n",
        "  print(index , a[index])"
      ],
      "metadata": {
        "colab": {
          "base_uri": "https://localhost:8080/"
        },
        "id": "nDusFoHNkbFB",
        "outputId": "c1db284c-c20e-4327-936f-627bea890b4d"
      },
      "execution_count": null,
      "outputs": [
        {
          "output_type": "stream",
          "name": "stdout",
          "text": [
            "0 4\n",
            "1 5\n",
            "2 6\n",
            "3 7\n"
          ]
        }
      ]
    },
    {
      "cell_type": "code",
      "source": [
        "h = [i for i in range(5,23) if i % 3 == 0]"
      ],
      "metadata": {
        "id": "HZVvRzl3koPK"
      },
      "execution_count": null,
      "outputs": []
    },
    {
      "cell_type": "code",
      "source": [
        "print(h)"
      ],
      "metadata": {
        "colab": {
          "base_uri": "https://localhost:8080/"
        },
        "id": "OUA4dd0flljv",
        "outputId": "c14bb30c-6495-47d4-d017-8b31b223361b"
      },
      "execution_count": null,
      "outputs": [
        {
          "output_type": "stream",
          "name": "stdout",
          "text": [
            "[6, 9, 12, 15, 18, 21]\n"
          ]
        }
      ]
    },
    {
      "cell_type": "code",
      "source": [
        "def gun():\n",
        "  print(\"shooting\")\n",
        "  return 56"
      ],
      "metadata": {
        "id": "O10gDGpwlm-o"
      },
      "execution_count": null,
      "outputs": []
    },
    {
      "cell_type": "code",
      "source": [
        "a = gun()"
      ],
      "metadata": {
        "colab": {
          "base_uri": "https://localhost:8080/"
        },
        "id": "ALrLcx46mZXl",
        "outputId": "faca270c-a5ce-4a77-cdab-3ecbe633c46c"
      },
      "execution_count": null,
      "outputs": [
        {
          "output_type": "stream",
          "name": "stdout",
          "text": [
            "shooting\n"
          ]
        }
      ]
    },
    {
      "cell_type": "code",
      "source": [
        "print(a)"
      ],
      "metadata": {
        "colab": {
          "base_uri": "https://localhost:8080/"
        },
        "id": "X34G0BOumc8i",
        "outputId": "3630bc61-7e4e-4f4c-f00d-b6922bd06805"
      },
      "execution_count": null,
      "outputs": [
        {
          "output_type": "stream",
          "name": "stdout",
          "text": [
            "56\n"
          ]
        }
      ]
    },
    {
      "cell_type": "code",
      "source": [
        "fun = lambda a : print(a)"
      ],
      "metadata": {
        "id": "fgGFOLxKmxlk"
      },
      "execution_count": null,
      "outputs": []
    },
    {
      "cell_type": "code",
      "source": [
        "add = lambda a : a + 3"
      ],
      "metadata": {
        "id": "Tc_IIifCnj10"
      },
      "execution_count": null,
      "outputs": []
    },
    {
      "cell_type": "code",
      "source": [],
      "metadata": {
        "id": "aQ3hKxJAnsVJ"
      },
      "execution_count": null,
      "outputs": []
    },
    {
      "cell_type": "code",
      "source": [
        "x = [5,6]"
      ],
      "metadata": {
        "id": "tz64mWz2nq6t"
      },
      "execution_count": null,
      "outputs": []
    },
    {
      "cell_type": "code",
      "source": [
        "if 'list' in globals():\n",
        "    del list"
      ],
      "metadata": {
        "id": "-Wd-J6FFsPTT"
      },
      "execution_count": null,
      "outputs": []
    },
    {
      "cell_type": "code",
      "source": [
        "mult = lambda x: print(4*x) # look at me"
      ],
      "metadata": {
        "id": "OQ2IYQfooDff"
      },
      "execution_count": null,
      "outputs": []
    },
    {
      "cell_type": "code",
      "source": [
        "mult(x)"
      ],
      "metadata": {
        "colab": {
          "base_uri": "https://localhost:8080/"
        },
        "id": "MYE_MnOPoz5n",
        "outputId": "632f5741-a560-4888-80b6-046fbbcaf7b3"
      },
      "execution_count": null,
      "outputs": [
        {
          "output_type": "stream",
          "name": "stdout",
          "text": [
            "[5, 6, 5, 6, 5, 6, 5, 6]\n"
          ]
        }
      ]
    },
    {
      "cell_type": "code",
      "source": [
        "lis = [1,2,3,4,5]"
      ],
      "metadata": {
        "id": "i3uIFXkGo5hN"
      },
      "execution_count": null,
      "outputs": []
    },
    {
      "cell_type": "code",
      "source": [
        "list(map(add,lis))"
      ],
      "metadata": {
        "colab": {
          "base_uri": "https://localhost:8080/"
        },
        "id": "zYl-7ft2ptU_",
        "outputId": "a75ee660-0b45-4558-99fb-67f8d1edcddd"
      },
      "execution_count": null,
      "outputs": [
        {
          "output_type": "execute_result",
          "data": {
            "text/plain": [
              "[4, 5, 6, 7, 8]"
            ]
          },
          "metadata": {},
          "execution_count": 156
        }
      ]
    },
    {
      "cell_type": "code",
      "source": [
        "list(map(lambda x : 2 * x , lis)) #not make change in list it returning new list"
      ],
      "metadata": {
        "id": "4GtebgCZqC8l",
        "colab": {
          "base_uri": "https://localhost:8080/"
        },
        "outputId": "605c952c-ebd6-40a8-909c-d726dc8bb188"
      },
      "execution_count": null,
      "outputs": [
        {
          "output_type": "execute_result",
          "data": {
            "text/plain": [
              "[2, 4, 6, 8, 10]"
            ]
          },
          "metadata": {},
          "execution_count": 163
        }
      ]
    },
    {
      "cell_type": "code",
      "source": [
        "list(filter(lambda x :  x%2 != 0,lis))"
      ],
      "metadata": {
        "id": "pW2FfZLXrHur",
        "colab": {
          "base_uri": "https://localhost:8080/"
        },
        "outputId": "5159277a-6e56-4476-a5a8-694d8cad0fc5"
      },
      "execution_count": null,
      "outputs": [
        {
          "output_type": "execute_result",
          "data": {
            "text/plain": [
              "[1, 3, 5]"
            ]
          },
          "metadata": {},
          "execution_count": 166
        }
      ]
    },
    {
      "cell_type": "code",
      "source": [
        "isinstance(lis,object)"
      ],
      "metadata": {
        "colab": {
          "base_uri": "https://localhost:8080/"
        },
        "id": "8kSBPYW0wHsw",
        "outputId": "76011b41-6537-44ea-e29c-6cbc116aca23"
      },
      "execution_count": null,
      "outputs": [
        {
          "output_type": "execute_result",
          "data": {
            "text/plain": [
              "True"
            ]
          },
          "metadata": {},
          "execution_count": 168
        }
      ]
    },
    {
      "cell_type": "code",
      "source": [],
      "metadata": {
        "id": "mCJe2tQmwPPU"
      },
      "execution_count": null,
      "outputs": []
    }
  ]
}
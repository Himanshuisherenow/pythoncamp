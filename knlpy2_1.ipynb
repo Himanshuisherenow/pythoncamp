{
  "nbformat": 4,
  "nbformat_minor": 0,
  "metadata": {
    "colab": {
      "provenance": [],
      "authorship_tag": "ABX9TyOauaAoOCjPYMhflCRBSQJW",
      "include_colab_link": true
    },
    "kernelspec": {
      "name": "python3",
      "display_name": "Python 3"
    },
    "language_info": {
      "name": "python"
    }
  },
  "cells": [
    {
      "cell_type": "markdown",
      "metadata": {
        "id": "view-in-github",
        "colab_type": "text"
      },
      "source": [
        "<a href=\"https://colab.research.google.com/github/Himanshuisherenow/pythoncamp/blob/main/knlpy2_1.ipynb\" target=\"_parent\"><img src=\"https://colab.research.google.com/assets/colab-badge.svg\" alt=\"Open In Colab\"/></a>"
      ]
    },
    {
      "cell_type": "code",
      "execution_count": null,
      "metadata": {
        "id": "zimwy8aAQ0kF"
      },
      "outputs": [],
      "source": [
        "class Human :\n",
        "\n",
        "  def __init__(self):\n",
        "    print(\"human is created\")\n",
        "    print(self)\n",
        "    print(self.age)\n",
        "    print(self.name)\n",
        "\n",
        "  def func(self,name):\n",
        "    print(f\"my name is {name}\")\n",
        "\n",
        "\n",
        "  age = 9\n",
        "  name = \"Himanshu\""
      ]
    },
    {
      "cell_type": "code",
      "source": [
        "piyu = Human()"
      ],
      "metadata": {
        "colab": {
          "base_uri": "https://localhost:8080/"
        },
        "id": "aJv7To4fRB4a",
        "outputId": "e2031ef8-0f4c-4c3d-9b44-c5409820520d"
      },
      "execution_count": null,
      "outputs": [
        {
          "output_type": "stream",
          "name": "stdout",
          "text": [
            "human is created\n",
            "<__main__.Human object at 0x7f7be2d8e5c0>\n",
            "9\n",
            "Himanshu\n"
          ]
        }
      ]
    },
    {
      "cell_type": "code",
      "source": [
        "piyu.func(\"Himanshu\")"
      ],
      "metadata": {
        "colab": {
          "base_uri": "https://localhost:8080/"
        },
        "id": "rwwKeJ03RFxS",
        "outputId": "8f0ea4ad-4bb7-4632-8397-3ca23c2a894a"
      },
      "execution_count": null,
      "outputs": [
        {
          "output_type": "stream",
          "name": "stdout",
          "text": [
            "my name is Himanshu\n"
          ]
        }
      ]
    },
    {
      "cell_type": "code",
      "source": [],
      "metadata": {
        "id": "sFvvV6YVRIPG"
      },
      "execution_count": null,
      "outputs": []
    },
    {
      "cell_type": "code",
      "source": [],
      "metadata": {
        "id": "3GBpBkZURxjw"
      },
      "execution_count": null,
      "outputs": []
    }
  ]
}